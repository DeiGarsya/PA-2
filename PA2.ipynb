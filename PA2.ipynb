{
 "cells": [
  {
   "cell_type": "code",
   "execution_count": 1,
   "id": "f3debdd2-e24b-4349-87df-e90cc179dce1",
   "metadata": {},
   "outputs": [],
   "source": [
    "import numpy as np"
   ]
  },
  {
   "cell_type": "raw",
   "id": "c39b4e1e-ded7-4dd4-ada8-4abdadfd34f3",
   "metadata": {},
   "source": [
    "Normalization Problem"
   ]
  },
  {
   "cell_type": "code",
   "execution_count": 74,
   "id": "78b465f3-5f12-4c7a-8c29-c5dc0ebb4601",
   "metadata": {},
   "outputs": [
    {
     "data": {
      "text/plain": [
       "array([[-0.29064363,  0.5791669 , -1.79285406, -0.53079257, -0.17650868],\n",
       "       [-0.81205903,  1.00143837,  0.47859876,  1.36164761, -1.90414864],\n",
       "       [ 1.41319346, -0.49996176, -0.70389366, -0.41293858,  0.80718932],\n",
       "       [ 0.94790143, -0.82701522,  0.66707018, -1.26130507,  1.39940731],\n",
       "       [ 1.16633745,  0.05518704, -1.47375003,  0.98659254, -0.17785943]])"
      ]
     },
     "execution_count": 74,
     "metadata": {},
     "output_type": "execute_result"
    }
   ],
   "source": [
    "# Create a random 5x5 array and saved to variable x\n",
    "x = np.random.random((5,5))\n",
    "\n",
    "# Here we create the operation or formula in order to get the narmalized vallues\n",
    "z = (x - np.mean(x)) / np.std(x)\n",
    "\n",
    "# Save the given normalized data stored in variable z\n",
    "np.save(\"X_normalized.npy\", z)\n",
    "z"
   ]
  },
  {
   "cell_type": "code",
   "execution_count": null,
   "id": "d3963b84-dd6f-4a5a-97a6-6ecb5a8021b9",
   "metadata": {},
   "outputs": [],
   "source": [
    "Divisible by 3 Problem"
   ]
  },
  {
   "cell_type": "code",
   "execution_count": 72,
   "id": "928dc341-6525-42e8-b11b-ecc4c169d41e",
   "metadata": {},
   "outputs": [
    {
     "data": {
      "text/plain": [
       "array([   9,   36,   81,  144,  225,  324,  441,  576,  729,  900, 1089,\n",
       "       1296, 1521, 1764, 2025, 2304, 2601, 2916, 3249, 3600, 3969, 4356,\n",
       "       4761, 5184, 5625, 6084, 6561, 7056, 7569, 8100, 8649, 9216, 9801])"
      ]
     },
     "execution_count": 72,
     "metadata": {},
     "output_type": "execute_result"
    }
   ],
   "source": [
    "# Create an array with squares of each number \n",
    "A = np.arange(1,101)**2\n",
    "\n",
    "# Re arrange the arraye into a 10x10 array\n",
    "A = A.reshape(10,10)\n",
    "\n",
    "# Determine which values in the array are dvisible by 3 using the modulus operation and get the values with 0 as a remainder\n",
    "X = A[A % 3 == 0]\n",
    "\n",
    "# Save the values divisible by 3 in variable X to a file. \n",
    "np.save(\"div_by_3.npy\", X)\n",
    "X"
   ]
  },
  {
   "cell_type": "code",
   "execution_count": null,
   "id": "86c882e9-cac9-4423-8fc5-afd8c1d890ec",
   "metadata": {},
   "outputs": [],
   "source": []
  }
 ],
 "metadata": {
  "kernelspec": {
   "display_name": "Python 3 (ipykernel)",
   "language": "python",
   "name": "python3"
  },
  "language_info": {
   "codemirror_mode": {
    "name": "ipython",
    "version": 3
   },
   "file_extension": ".py",
   "mimetype": "text/x-python",
   "name": "python",
   "nbconvert_exporter": "python",
   "pygments_lexer": "ipython3",
   "version": "3.12.4"
  }
 },
 "nbformat": 4,
 "nbformat_minor": 5
}
